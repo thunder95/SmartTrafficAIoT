{
 "cells": [
  {
   "cell_type": "markdown",
   "metadata": {
    "collapsed": false
   },
   "source": [
    "# 项目意义\n",
    "![](https://ai-studio-static-online.cdn.bcebos.com/95fba79876224459b5a7d0d8867e87a0d21983ad90ed43ac893b2e8f313187b8)\n",
    "\n",
    "\n",
    "**Git代码地址**：\n",
    "https://github.com/thunder95/SmartTrafficAIoT\n"
   ]
  },
  {
   "cell_type": "markdown",
   "metadata": {
    "collapsed": false
   },
   "source": [
    "# 架构设计\n",
    "\n",
    "![](https://ai-studio-static-online.cdn.bcebos.com/cbd3e07caf254446827116b3495dd8c34848d4f16e1244c6b9f17f5a85fc4b75)\n"
   ]
  },
  {
   "cell_type": "markdown",
   "metadata": {
    "collapsed": false
   },
   "source": [
    "# 车流统计\n",
    "\n",
    "参考文档： https://github.com/PaddlePaddle/PaddleDetection/blob/release/2.3/deploy/pptracking/cpp/README.md\n",
    "\n",
    "参考文档： https://github.com/PaddlePaddle/PaddleDetection/blob/release/2.3/deploy/pptracking/python/README.md\n",
    "\n",
    "GUI界面参考：https://github.com/myuanz/PP-Tracking_GUi.git"
   ]
  },
  {
   "cell_type": "markdown",
   "metadata": {
    "collapsed": false
   },
   "source": [
    "## PP-Tracking目标跟踪\n",
    "\n",
    "**PP-Tracking**是基于飞桨深度学习框架的业界首个开源实时跟踪系统。针对实际业务的难点痛点，PP-Tracking内置行人车辆跟踪、跨镜头跟踪、多类别跟踪、小目标跟踪及流量计数等能力与产业应用，同时提供可视化开发界面。模型集成多目标跟踪，目标检测，ReID轻量级算法，进一步提升PP-Tracking在服务器端部署性能。同时支持python，C++部署，适配Linux，Nvidia Jetson多平台环境。\n",
    "\n",
    "![](https://ai-studio-static-online.cdn.bcebos.com/c8ffcde8c1974a69863806e3aeaf81c6680f3a8de50d4d56be9a14f155979f9e)\n",
    "\n",
    "\n"
   ]
  },
  {
   "cell_type": "markdown",
   "metadata": {
    "collapsed": false
   },
   "source": [
    "## 环境准备\n",
    "下载PaddleDetection并且安装环境requirements"
   ]
  },
  {
   "cell_type": "code",
   "execution_count": null,
   "metadata": {
    "collapsed": false
   },
   "outputs": [],
   "source": [
    "# Download PaddleDetection\n",
    "!git clone https://gitee.com/paddlepaddle/PaddleDetection.git -b develop"
   ]
  },
  {
   "cell_type": "code",
   "execution_count": null,
   "metadata": {
    "collapsed": false
   },
   "outputs": [],
   "source": [
    "!pip install --upgrade pip -i https://mirror.baidu.com/pypi/simple\r\n",
    "!pip install paddlepaddle-gpu==2.2.0rc0.post101 -f https://www.paddlepaddle.org.cn/whl/linux/mkl/avx/stable.html -i https://mirror.baidu.com/pypi/simple\r\n",
    "!cd PaddleDetection/ && pip install pycocotools && pip install -r requirements.txt && python setup.py install"
   ]
  },
  {
   "cell_type": "code",
   "execution_count": null,
   "metadata": {
    "collapsed": false
   },
   "outputs": [
    {
     "name": "stdout",
     "output_type": "stream",
     "text": [
      "/home/aistudio/PaddleDetection/output_inference\n",
      "--2022-03-04 09:08:46--  https://bj.bcebos.com/v1/paddledet/models/mot/fairmot_hrnetv2_w18_dlafpn_30e_576x320_bdd100kmot_vehicle.tar\n",
      "Resolving bj.bcebos.com (bj.bcebos.com)... 182.61.200.195, 182.61.200.229, 2409:8c04:1001:1002:0:ff:b001:368a\n",
      "Connecting to bj.bcebos.com (bj.bcebos.com)|182.61.200.195|:443... connected.\n",
      "HTTP request sent, awaiting response... 200 OK\n",
      "Length: 51087360 (49M) [application/x-tar]\n",
      "Saving to: ‘fairmot_hrnetv2_w18_dlafpn_30e_576x320_bdd100kmot_vehicle.tar.1’\n",
      "\n",
      "fairmot_hrnetv2_w18 100%[===================>]  48.72M  39.6MB/s    in 1.2s    \n",
      "\n",
      "2022-03-04 09:08:47 (39.6 MB/s) - ‘fairmot_hrnetv2_w18_dlafpn_30e_576x320_bdd100kmot_vehicle.tar.1’ saved [51087360/51087360]\n",
      "\n",
      "fairmot_hrnetv2_w18_dlafpn_30e_576x320_bdd100kmot_vehicle/\n",
      "fairmot_hrnetv2_w18_dlafpn_30e_576x320_bdd100kmot_vehicle/infer_cfg.yml\n",
      "fairmot_hrnetv2_w18_dlafpn_30e_576x320_bdd100kmot_vehicle/model.pdmodel\n",
      "fairmot_hrnetv2_w18_dlafpn_30e_576x320_bdd100kmot_vehicle/model.pdiparams\n",
      "fairmot_hrnetv2_w18_dlafpn_30e_576x320_bdd100kmot_vehicle/model.pdiparams.info\n"
     ]
    }
   ],
   "source": [
    "%cd /home/aistudio/PaddleDetection/output_inference/\n",
    "!wget https://bj.bcebos.com/v1/paddledet/models/mot/fairmot_hrnetv2_w18_dlafpn_30e_576x320_bdd100kmot_vehicle.tar\n",
    "!tar -xvf fairmot_hrnetv2_w18_dlafpn_30e_576x320_bdd100kmot_vehicle.tar"
   ]
  },
  {
   "cell_type": "code",
   "execution_count": null,
   "metadata": {
    "collapsed": false
   },
   "outputs": [
    {
     "name": "stdout",
     "output_type": "stream",
     "text": [
      "/home/aistudio/PaddleDetection\n",
      "--2022-03-04 09:16:59--  https://bj.bcebos.com/v1/paddledet/data/mot/demo/mot17_demo.mp4\n",
      "Resolving bj.bcebos.com (bj.bcebos.com)... 182.61.200.229, 182.61.200.195, 2409:8c04:1001:1002:0:ff:b001:368a\n",
      "Connecting to bj.bcebos.com (bj.bcebos.com)|182.61.200.229|:443... connected.\n",
      "HTTP request sent, awaiting response... 200 OK\n",
      "Length: 8850805 (8.4M) [video/mp4]\n",
      "Saving to: ‘mot17_demo.mp4’\n",
      "\n",
      "mot17_demo.mp4      100%[===================>]   8.44M  6.01MB/s    in 1.4s    \n",
      "\n",
      "2022-03-04 09:17:00 (6.01 MB/s) - ‘mot17_demo.mp4’ saved [8850805/8850805]\n",
      "\n"
     ]
    }
   ],
   "source": [
    "# 下载行人跟踪demo视频：\n",
    "%cd /home/aistudio/PaddleDetection/\n",
    "!wget https://bj.bcebos.com/v1/paddledet/data/mot/demo/mot17_demo.mp4"
   ]
  },
  {
   "cell_type": "code",
   "execution_count": 5,
   "metadata": {
    "collapsed": false
   },
   "outputs": [
    {
     "name": "stdout",
     "output_type": "stream",
     "text": [
      "/home/aistudio/PaddleDetection\n",
      "-----------  Running Arguments -----------\n",
      "batch_size: 1\n",
      "camera_id: -1\n",
      "cpu_threads: 1\n",
      "device: GPU\n",
      "do_entrance_counting: False\n",
      "draw_center_traj: False\n",
      "enable_mkldnn: False\n",
      "image_dir: None\n",
      "image_file: None\n",
      "model_dir: output_inference/fairmot_hrnetv2_w18_dlafpn_30e_576x320_bdd100kmot_vehicle\n",
      "mtmct_cfg: None\n",
      "mtmct_dir: None\n",
      "output_dir: output\n",
      "reid_batch_size: 50\n",
      "reid_model_dir: None\n",
      "run_benchmark: False\n",
      "run_mode: fluid\n",
      "save_images: True\n",
      "save_mot_txts: False\n",
      "scaled: False\n",
      "secs_interval: 2\n",
      "threshold: 0.2\n",
      "trt_calib_mode: False\n",
      "trt_max_shape: 1280\n",
      "trt_min_shape: 1\n",
      "trt_opt_shape: 640\n",
      "video_file: /home/aistudio/tmp/rainy.mp4\n",
      "------------------------------------------\n",
      "-----------  Model Configuration -----------\n",
      "Model Arch: FairMOT\n",
      "Transform Order: \n",
      "--transform op: LetterBoxResize\n",
      "--transform op: NormalizeImage\n",
      "--transform op: Permute\n",
      "--------------------------------------------\n"
     ]
    }
   ],
   "source": [
    "#推理\n",
    "# Python预测视频\n",
    "%cd /home/aistudio/PaddleDetection/\n",
    "!python deploy/pptracking/python/mot_jde_infer.py --model_dir=output_inference/fairmot_hrnetv2_w18_dlafpn_30e_576x320_bdd100kmot_vehicle --video_file=/home/aistudio/tmp/rainy.mp4 --device=GPU --threshold=0.2 --save_images"
   ]
  },
  {
   "cell_type": "code",
   "execution_count": null,
   "metadata": {
    "collapsed": false
   },
   "outputs": [
    {
     "name": "stdout",
     "output_type": "stream",
     "text": [
      "/home/aistudio/PaddleDetection/output_inference\n",
      "--2022-03-04 09:29:54--  https://paddledet.bj.bcebos.com/models/mot/deepsort/picodet_l_640_aic21mtmct_vehicle.tar\n",
      "Resolving paddledet.bj.bcebos.com (paddledet.bj.bcebos.com)... 182.61.200.195, 182.61.200.229, 2409:8c04:1001:1002:0:ff:b001:368a\n",
      "Connecting to paddledet.bj.bcebos.com (paddledet.bj.bcebos.com)|182.61.200.195|:443... connected.\n",
      "HTTP request sent, awaiting response... 200 OK\n",
      "Length: 17090560 (16M) [application/x-tar]\n",
      "Saving to: ‘picodet_l_640_aic21mtmct_vehicle.tar.1’\n",
      "\n",
      "picodet_l_640_aic21 100%[===================>]  16.30M  40.8MB/s    in 0.4s    \n",
      "\n",
      "2022-03-04 09:29:54 (40.8 MB/s) - ‘picodet_l_640_aic21mtmct_vehicle.tar.1’ saved [17090560/17090560]\n",
      "\n",
      "picodet_l_640_aic21mtmct_vehicle/\n",
      "picodet_l_640_aic21mtmct_vehicle/infer_cfg.yml\n",
      "picodet_l_640_aic21mtmct_vehicle/model.pdmodel\n",
      "picodet_l_640_aic21mtmct_vehicle/model.pdiparams\n",
      "picodet_l_640_aic21mtmct_vehicle/model.pdiparams.info\n"
     ]
    }
   ],
   "source": [
    "%cd /home/aistudio/PaddleDetection/output_inference/\n",
    "!wget https://paddledet.bj.bcebos.com/models/mot/deepsort/picodet_l_640_aic21mtmct_vehicle.tar\n",
    "!tar -xvf picodet_l_640_aic21mtmct_vehicle.tar"
   ]
  },
  {
   "cell_type": "code",
   "execution_count": null,
   "metadata": {
    "collapsed": false
   },
   "outputs": [],
   "source": [
    "# 车辆跟踪\n",
    "%cd /home/aistudio/PaddleDetection/\n",
    "!python deploy/pptracking/python/mot_sde_infer.py --model_dir=output_inference/picodet_l_640_aic21mtmct_vehicle/ --reid_model_dir=output_inference/deepsort_pplcnet_vehicle/ --device=GPU --scaled=True --threshold=0.5 --video_file=./mtmct-demo/c003.mp4 --save_images"
   ]
  },
  {
   "cell_type": "markdown",
   "metadata": {
    "collapsed": false
   },
   "source": [
    "# 天气视觉分类\n"
   ]
  },
  {
   "cell_type": "markdown",
   "metadata": {
    "collapsed": false
   },
   "source": [
    "## 数据集介绍\n",
    "\n",
    "数据集包含5中常见天气的分类图片: 雾天foggy, 夜间night， 雨天rainy, 雪天snowy, 晴朗sunny。这份数据集用于判断智慧交通中的一些恶劣天气，控制路灯或黄等开关等等。"
   ]
  },
  {
   "cell_type": "code",
   "execution_count": null,
   "metadata": {
    "collapsed": false
   },
   "outputs": [],
   "source": [
    "%cd /home/aistudio/data/data55215\r\n",
    "!unzip test.zip\r\n",
    "!unzip train.zip"
   ]
  },
  {
   "cell_type": "markdown",
   "metadata": {
    "collapsed": false
   },
   "source": [
    "## 模型训练及推理\n",
    "\n",
    "基于飞桨框架高层API， 构造Resnet18模型， 对天气训练出一个简单的分类模型， 最终测试集准确率达到95%左右"
   ]
  },
  {
   "cell_type": "code",
   "execution_count": null,
   "metadata": {
    "collapsed": false
   },
   "outputs": [],
   "source": [
    "%cd /home/aistudio/Weather/\r\n",
    "!python train.py"
   ]
  },
  {
   "cell_type": "code",
   "execution_count": 7,
   "metadata": {
    "collapsed": false
   },
   "outputs": [
    {
     "name": "stdout",
     "output_type": "stream",
     "text": [
      "/home/aistudio/Weather\n",
      "/opt/conda/envs/python35-paddle120-env/lib/python3.7/site-packages/setuptools/depends.py:2: DeprecationWarning: the imp module is deprecated in favour of importlib; see the module's documentation for alternative uses\n",
      "  import imp\n",
      "[[ 3.1822135 -2.8885767  2.623466   2.5718806  0.8304471]] [0]\n"
     ]
    }
   ],
   "source": [
    "# 模型推理\r\n",
    "%cd /home/aistudio/Weather/\r\n",
    "!python infer.py"
   ]
  },
  {
   "cell_type": "markdown",
   "metadata": {
    "collapsed": false
   },
   "source": [
    "# 第三方天气API\n",
    "\n",
    "本项目简单使用了某东的免费公开API， 会采集到一些环境参数， 如PM2.5, 真实天气类型, 温度,空气湿度等等. \n",
    "\n",
    "appkey需要自己在平台上注册获取，大家也可以使用其他平台免费的API， **这里主要是为了模拟物联网终端设备**。\n"
   ]
  },
  {
   "cell_type": "code",
   "execution_count": 4,
   "metadata": {
    "collapsed": false
   },
   "outputs": [
    {
     "name": "stdout",
     "output_type": "stream",
     "text": [
      "{'code': '10000', 'charge': False, 'msg': '查询成功', 'result': {'status': 0, 'msg': 'ok', 'result': {'city': '成都', 'cityid': 321, 'citycode': 101270101, 'date': '2022-03-20', 'week': '星期日', 'weather': '小雨', 'temp': '15', 'temphigh': '18', 'templow': '12', 'img': '7', 'humidity': '65', 'pressure': '952', 'windspeed': '3.0', 'winddirect': '东北风', 'windpower': '3级', 'updatetime': '2022-03-20 22:23:00', 'index': [{'iname': '空调指数', 'ivalue': '较少开启', 'detail': '您将感到很舒适，一般不需要开启空调。'}, {'iname': '运动指数', 'ivalue': '较不宜', 'detail': '有降水，推荐您在室内进行健身休闲运动；若坚持户外运动，须注意保暖并携带雨具。'}, {'iname': '紫外线指数', 'ivalue': '最弱', 'detail': '属弱紫外线辐射天气，无需特别防护。若长期在户外，建议涂擦SPF在8-12之间的防晒护肤品。'}, {'iname': '感冒指数', 'ivalue': '少发', 'detail': '各项气象条件适宜，无明显降温过程，发生感冒机率较低。'}, {'iname': '洗车指数', 'ivalue': '不宜', 'detail': '不宜洗车，未来24小时内有雨，如果在此期间洗车，雨水和路上的泥水可能会再次弄脏您的爱车。'}, {'iname': '空气污染扩散指数', 'ivalue': '良', 'detail': '气象条件有利于空气污染物稀释、扩散和清除，可在室外正常活动。'}, {'iname': '穿衣指数', 'ivalue': '较舒适', 'detail': '建议着薄外套、开衫牛仔衫裤等服装。年老体弱者应适当添加衣物，宜着夹克衫、薄毛衣等。'}], 'aqi': {'so2': '4', 'so224': '0', 'no2': '22', 'no224': '0', 'co': '0.530', 'co24': '0.000', 'o3': '48', 'o38': '0', 'o324': '0', 'pm10': '37', 'pm1024': '0', 'pm2_5': '16', 'pm2_524': '0', 'iso2': '2', 'ino2': '12', 'ico': '6', 'io3': '16', 'io38': '0', 'ipm10': '36', 'ipm2_5': '22', 'aqi': '36', 'primarypollutant': 'PM10', 'quality': '优', 'timepoint': '2022-03-20 22:00:00', 'aqiinfo': {'level': '一级', 'color': '#00e400', 'affect': '空气质量令人满意，基本无空气污染', 'measure': '各类人群可正常活动'}}, 'daily': [{'date': '2022-03-20', 'week': '星期日', 'sunrise': '07:10', 'sunset': '19:15', 'night': {'weather': '阴', 'templow': '12', 'img': '2', 'winddirect': '持续无风向', 'windpower': '微风'}, 'day': {'weather': '小雨', 'temphigh': '18', 'img': '7', 'winddirect': '持续无风向', 'windpower': '微风'}}, {'date': '2022-03-21', 'week': '星期一', 'sunrise': '07:09', 'sunset': '19:15', 'night': {'weather': '阴', 'templow': '10', 'img': '2', 'winddirect': '持续无风向', 'windpower': '微风'}, 'day': {'weather': '阴', 'temphigh': '15', 'img': '2', 'winddirect': '持续无风向', 'windpower': '微风'}}, {'date': '2022-03-22', 'week': '星期二', 'sunrise': '07:07', 'sunset': '19:16', 'night': {'weather': '多云', 'templow': '10', 'img': '1', 'winddirect': '持续无风向', 'windpower': '微风'}, 'day': {'weather': '阴', 'temphigh': '16', 'img': '2', 'winddirect': '持续无风向', 'windpower': '微风'}}, {'date': '2022-03-23', 'week': '星期三', 'sunrise': '07:06', 'sunset': '19:17', 'night': {'weather': '阴', 'templow': '11', 'img': '2', 'winddirect': '持续无风向', 'windpower': '微风'}, 'day': {'weather': '阴', 'temphigh': '18', 'img': '2', 'winddirect': '持续无风向', 'windpower': '微风'}}, {'date': '2022-03-24', 'week': '星期四', 'sunrise': '07:05', 'sunset': '19:17', 'night': {'weather': '小雨', 'templow': '12', 'img': '7', 'winddirect': '持续无风向', 'windpower': '微风'}, 'day': {'weather': '阴', 'temphigh': '18', 'img': '2', 'winddirect': '持续无风向', 'windpower': '微风'}}, {'date': '2022-03-25', 'week': '星期五', 'sunrise': '07:04', 'sunset': '19:18', 'night': {'weather': '小雨', 'templow': '9', 'img': '7', 'winddirect': '持续无风向', 'windpower': '微风'}, 'day': {'weather': '阴', 'temphigh': '19', 'img': '2', 'winddirect': '持续无风向', 'windpower': '微风'}}, {'date': '2022-03-26', 'week': '星期六', 'sunrise': '07:02', 'sunset': '19:19', 'night': {'weather': '小雨', 'templow': '8', 'img': '7', 'winddirect': '持续无风向', 'windpower': '微风'}, 'day': {'weather': '阴', 'temphigh': '18', 'img': '2', 'winddirect': '持续无风向', 'windpower': '微风'}}], 'hourly': [{'time': '22:00', 'weather': '阴', 'temp': '15', 'img': '2'}, {'time': '23:00', 'weather': '阴', 'temp': '15', 'img': '2'}, {'time': '0:00', 'weather': '阴', 'temp': '15', 'img': '2'}, {'time': '1:00', 'weather': '阴', 'temp': '15', 'img': '2'}, {'time': '2:00', 'weather': '阴', 'temp': '14', 'img': '2'}, {'time': '3:00', 'weather': '阴', 'temp': '14', 'img': '2'}, {'time': '4:00', 'weather': '阴', 'temp': '13', 'img': '2'}, {'time': '5:00', 'weather': '阴', 'temp': '13', 'img': '2'}, {'time': '6:00', 'weather': '阴', 'temp': '13', 'img': '2'}, {'time': '7:00', 'weather': '阴', 'temp': '12', 'img': '2'}, {'time': '8:00', 'weather': '阴', 'temp': '12', 'img': '2'}, {'time': '9:00', 'weather': '阴', 'temp': '13', 'img': '2'}, {'time': '10:00', 'weather': '阴', 'temp': '13', 'img': '2'}, {'time': '11:00', 'weather': '阴', 'temp': '14', 'img': '2'}, {'time': '12:00', 'weather': '阴', 'temp': '15', 'img': '2'}, {'time': '13:00', 'weather': '阴', 'temp': '15', 'img': '2'}, {'time': '14:00', 'weather': '阴', 'temp': '15', 'img': '2'}, {'time': '15:00', 'weather': '阴', 'temp': '15', 'img': '2'}, {'time': '16:00', 'weather': '阴', 'temp': '15', 'img': '2'}, {'time': '17:00', 'weather': '阴', 'temp': '15', 'img': '2'}, {'time': '18:00', 'weather': '阴', 'temp': '15', 'img': '2'}, {'time': '19:00', 'weather': '阴', 'temp': '15', 'img': '2'}, {'time': '20:00', 'weather': '阴', 'temp': '15', 'img': '2'}, {'time': '21:00', 'weather': '阴', 'temp': '13', 'img': '2'}]}}, 'requestId': '3d43829e6aa54664be91c3eacf1bec01'}\r\n"
     ]
    }
   ],
   "source": [
    "!python jd_app.py"
   ]
  },
  {
   "cell_type": "markdown",
   "metadata": {
    "collapsed": false
   },
   "source": [
    "# 项目效果\n",
    "![](https://ai-studio-static-online.cdn.bcebos.com/1cabb13e9f75435b8da9eac176912cd5adae6fb0ecea4866b7e84d47a1909f32)\n",
    "![](https://ai-studio-static-online.cdn.bcebos.com/dc9583fa9ee94094a6aa736813a7945ebc25c329805f4ca7963448d9b4ebc961)\n",
    "![](https://ai-studio-static-online.cdn.bcebos.com/7b8f3c90121941b392fd2479d7342c23731a52641d734b5daef281e3444658be)\n",
    "\n",
    "\n",
    "\n",
    "## 写在最后\n",
    "\n",
    "本项目简单尝试了基于飞桨训练的模型，某为的IoT平台以及某东的天气API， 设计了智慧交通AIoT的简单方案，目前功能比较简单，后续将考虑玩一些更有意思的想法。\n",
    "\n",
    "## 关于作者\n",
    "\n",
    "* 成都飞桨领航团团长\n",
    "* PPDE\n",
    "* AICA三期学员\n",
    "\n",
    "我在AI Studio上获得钻石等级，点亮10个徽章，来互关呀~ \n",
    "https://aistudio.baidu.com/aistudio/personalcenter/thirdview/89442"
   ]
  }
 ],
 "metadata": {
  "kernelspec": {
   "display_name": "Python 3",
   "language": "python",
   "name": "py35-paddle1.2.0"
  },
  "language_info": {
   "codemirror_mode": {
    "name": "ipython",
    "version": 3
   },
   "file_extension": ".py",
   "mimetype": "text/x-python",
   "name": "python",
   "nbconvert_exporter": "python",
   "pygments_lexer": "ipython3",
   "version": "3.7.4"
  }
 },
 "nbformat": 4,
 "nbformat_minor": 1
}
